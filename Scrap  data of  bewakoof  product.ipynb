{
 "cells": [
  {
   "cell_type": "code",
   "execution_count": 1,
   "id": "bed27d6c",
   "metadata": {},
   "outputs": [
    {
     "name": "stdout",
     "output_type": "stream",
     "text": [
      "Requirement already satisfied: bs4 in c:\\users\\hp\\anaconda3\\lib\\site-packages (0.0.1)\n",
      "Requirement already satisfied: beautifulsoup4 in c:\\users\\hp\\anaconda3\\lib\\site-packages (from bs4) (4.9.3)\n",
      "Requirement already satisfied: soupsieve>1.2 in c:\\users\\hp\\anaconda3\\lib\\site-packages (from beautifulsoup4->bs4) (2.2.1)\n",
      "Requirement already satisfied: requests in c:\\users\\hp\\anaconda3\\lib\\site-packages (2.25.1)\n",
      "Requirement already satisfied: chardet<5,>=3.0.2 in c:\\users\\hp\\anaconda3\\lib\\site-packages (from requests) (4.0.0)\n",
      "Requirement already satisfied: idna<3,>=2.5 in c:\\users\\hp\\anaconda3\\lib\\site-packages (from requests) (2.10)\n",
      "Requirement already satisfied: urllib3<1.27,>=1.21.1 in c:\\users\\hp\\anaconda3\\lib\\site-packages (from requests) (1.26.4)\n",
      "Requirement already satisfied: certifi>=2017.4.17 in c:\\users\\hp\\anaconda3\\lib\\site-packages (from requests) (2020.12.5)\n"
     ]
    }
   ],
   "source": [
    "!pip install bs4\n",
    "!pip install requests"
   ]
  },
  {
   "cell_type": "code",
   "execution_count": 2,
   "id": "209682c2",
   "metadata": {},
   "outputs": [],
   "source": [
    "from bs4 import BeautifulSoup\n",
    "import requests\n",
    "import pandas as pd"
   ]
  },
  {
   "cell_type": "code",
   "execution_count": 3,
   "id": "6bbeaffc",
   "metadata": {},
   "outputs": [],
   "source": [
    "link='https://www.bewakoof.com/women-plain-t-shirts'\n",
    "page=requests.get(link).text"
   ]
  },
  {
   "cell_type": "code",
   "execution_count": 4,
   "id": "f54d637e",
   "metadata": {},
   "outputs": [],
   "source": [
    "soup=BeautifulSoup(page,'html.parser')"
   ]
  },
  {
   "cell_type": "code",
   "execution_count": 5,
   "id": "10e7deaf",
   "metadata": {},
   "outputs": [],
   "source": [
    "bewkoof_data=soup.findAll('div',attrs={'class':'plp-product-card'})"
   ]
  },
  {
   "cell_type": "code",
   "execution_count": 6,
   "id": "361f01f9",
   "metadata": {},
   "outputs": [],
   "source": [
    "PRODUCT_NAME=[]\n",
    "PRICE=[]\n",
    "IMAGE_URL=[]\n",
    "for store in bewkoof_data:\n",
    "    ProName=store.h3.text\n",
    "    PRODUCT_NAME.append(ProName)\n",
    "    \n",
    "    Price=store.find('span',class_='discountedPriceText').text\n",
    "    PRICE.append(Price)\n",
    "    \n"
   ]
  },
  {
   "cell_type": "code",
   "execution_count": 7,
   "id": "0da8fb94",
   "metadata": {},
   "outputs": [],
   "source": [
    "Bewakoof_DataFrame1=pd.DataFrame({'Product Name':PRODUCT_NAME,'Price':PRICE})"
   ]
  },
  {
   "cell_type": "code",
   "execution_count": 8,
   "id": "191df2cc",
   "metadata": {},
   "outputs": [],
   "source": [
    "Image_url=[]\n",
    "\n",
    "for store in soup.div.findAll('img'):\n",
    "    Imag=store.get('src')\n",
    "    Image_url.append(Imag)"
   ]
  },
  {
   "cell_type": "code",
   "execution_count": 18,
   "id": "81dff252",
   "metadata": {},
   "outputs": [],
   "source": [
    "image_I=pd.DataFrame(Image_url)"
   ]
  },
  {
   "cell_type": "code",
   "execution_count": 22,
   "id": "ceb63abc",
   "metadata": {},
   "outputs": [],
   "source": [
    "Image_Link=image_I.drop(image_I.index[[0,3]])"
   ]
  },
  {
   "cell_type": "code",
   "execution_count": 23,
   "id": "78ef1cbe",
   "metadata": {},
   "outputs": [],
   "source": [
    "Bewakoof_DataFrame1['Image_Url']=Image_Link"
   ]
  },
  {
   "cell_type": "code",
   "execution_count": 24,
   "id": "c36d38de",
   "metadata": {},
   "outputs": [
    {
     "data": {
      "text/html": [
       "<div>\n",
       "<style scoped>\n",
       "    .dataframe tbody tr th:only-of-type {\n",
       "        vertical-align: middle;\n",
       "    }\n",
       "\n",
       "    .dataframe tbody tr th {\n",
       "        vertical-align: top;\n",
       "    }\n",
       "\n",
       "    .dataframe thead th {\n",
       "        text-align: right;\n",
       "    }\n",
       "</style>\n",
       "<table border=\"1\" class=\"dataframe\">\n",
       "  <thead>\n",
       "    <tr style=\"text-align: right;\">\n",
       "      <th></th>\n",
       "      <th>Product Name</th>\n",
       "      <th>Price</th>\n",
       "      <th>Image_Url</th>\n",
       "    </tr>\n",
       "  </thead>\n",
       "  <tbody>\n",
       "    <tr>\n",
       "      <th>0</th>\n",
       "      <td>Women's Yellow Solid Oversized T-shirt</td>\n",
       "      <td>₹ 562</td>\n",
       "      <td>NaN</td>\n",
       "    </tr>\n",
       "    <tr>\n",
       "      <th>1</th>\n",
       "      <td>Women's Pink Solid Oversized T-shirt</td>\n",
       "      <td>₹ 562</td>\n",
       "      <td>https://images.bewakoof.com/web/search-glass.png</td>\n",
       "    </tr>\n",
       "    <tr>\n",
       "      <th>2</th>\n",
       "      <td>Women's Grey Melange Oversized Fit T Shirt</td>\n",
       "      <td>₹ 499</td>\n",
       "      <td>https://images.bewakoof.com/web/wishlist-16491...</td>\n",
       "    </tr>\n",
       "    <tr>\n",
       "      <th>3</th>\n",
       "      <td>Women's Purple Oversized Fit T Shirt</td>\n",
       "      <td>₹ 499</td>\n",
       "      <td>NaN</td>\n",
       "    </tr>\n",
       "    <tr>\n",
       "      <th>4</th>\n",
       "      <td>Women's Pink Oversized Fit T Shirt</td>\n",
       "      <td>₹ 499</td>\n",
       "      <td>https://images.bewakoof.com/t320/women-s-yello...</td>\n",
       "    </tr>\n",
       "    <tr>\n",
       "      <th>5</th>\n",
       "      <td>Women's Red Oversized Fit T Shirt</td>\n",
       "      <td>₹ 499</td>\n",
       "      <td>https://images.bewakoof.com/t320/women-s-pink-...</td>\n",
       "    </tr>\n",
       "    <tr>\n",
       "      <th>6</th>\n",
       "      <td>Women's Red Solid Oversized T-shirt</td>\n",
       "      <td>₹ 562</td>\n",
       "      <td>https://images.bewakoof.com/t320/dillinger-wom...</td>\n",
       "    </tr>\n",
       "    <tr>\n",
       "      <th>7</th>\n",
       "      <td>Women's Green Solid Oversized T-shirt</td>\n",
       "      <td>₹ 562</td>\n",
       "      <td>https://images.bewakoof.com/t320/dillinger-wom...</td>\n",
       "    </tr>\n",
       "    <tr>\n",
       "      <th>8</th>\n",
       "      <td>Women's Mustard Boxy Oversized Fit T Shirt</td>\n",
       "      <td>₹ 479</td>\n",
       "      <td>https://images.bewakoof.com/t320/dillinger-wom...</td>\n",
       "    </tr>\n",
       "    <tr>\n",
       "      <th>9</th>\n",
       "      <td>Women's Blue Oversized Fit T Shirt</td>\n",
       "      <td>₹ 499</td>\n",
       "      <td>https://images.bewakoof.com/t320/dillinger-wom...</td>\n",
       "    </tr>\n",
       "  </tbody>\n",
       "</table>\n",
       "</div>"
      ],
      "text/plain": [
       "                                 Product Name  Price  \\\n",
       "0      Women's Yellow Solid Oversized T-shirt  ₹ 562   \n",
       "1        Women's Pink Solid Oversized T-shirt  ₹ 562   \n",
       "2  Women's Grey Melange Oversized Fit T Shirt  ₹ 499   \n",
       "3        Women's Purple Oversized Fit T Shirt  ₹ 499   \n",
       "4          Women's Pink Oversized Fit T Shirt  ₹ 499   \n",
       "5           Women's Red Oversized Fit T Shirt  ₹ 499   \n",
       "6         Women's Red Solid Oversized T-shirt  ₹ 562   \n",
       "7       Women's Green Solid Oversized T-shirt  ₹ 562   \n",
       "8  Women's Mustard Boxy Oversized Fit T Shirt  ₹ 479   \n",
       "9          Women's Blue Oversized Fit T Shirt  ₹ 499   \n",
       "\n",
       "                                           Image_Url  \n",
       "0                                                NaN  \n",
       "1   https://images.bewakoof.com/web/search-glass.png  \n",
       "2  https://images.bewakoof.com/web/wishlist-16491...  \n",
       "3                                                NaN  \n",
       "4  https://images.bewakoof.com/t320/women-s-yello...  \n",
       "5  https://images.bewakoof.com/t320/women-s-pink-...  \n",
       "6  https://images.bewakoof.com/t320/dillinger-wom...  \n",
       "7  https://images.bewakoof.com/t320/dillinger-wom...  \n",
       "8  https://images.bewakoof.com/t320/dillinger-wom...  \n",
       "9  https://images.bewakoof.com/t320/dillinger-wom...  "
      ]
     },
     "execution_count": 24,
     "metadata": {},
     "output_type": "execute_result"
    }
   ],
   "source": [
    "Bewakoof_DataFrame1"
   ]
  },
  {
   "cell_type": "code",
   "execution_count": null,
   "id": "b8c1aed0",
   "metadata": {},
   "outputs": [],
   "source": []
  }
 ],
 "metadata": {
  "kernelspec": {
   "display_name": "Python 3",
   "language": "python",
   "name": "python3"
  },
  "language_info": {
   "codemirror_mode": {
    "name": "ipython",
    "version": 3
   },
   "file_extension": ".py",
   "mimetype": "text/x-python",
   "name": "python",
   "nbconvert_exporter": "python",
   "pygments_lexer": "ipython3",
   "version": "3.8.8"
  }
 },
 "nbformat": 4,
 "nbformat_minor": 5
}
