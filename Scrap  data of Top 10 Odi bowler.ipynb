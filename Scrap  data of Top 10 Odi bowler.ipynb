{
 "cells": [
  {
   "cell_type": "code",
   "execution_count": 1,
   "id": "92b55d87",
   "metadata": {},
   "outputs": [
    {
     "name": "stdout",
     "output_type": "stream",
     "text": [
      "Requirement already satisfied: bs4 in c:\\users\\hp\\anaconda3\\lib\\site-packages (0.0.1)\n",
      "Requirement already satisfied: beautifulsoup4 in c:\\users\\hp\\anaconda3\\lib\\site-packages (from bs4) (4.9.3)\n",
      "Requirement already satisfied: soupsieve>1.2 in c:\\users\\hp\\anaconda3\\lib\\site-packages (from beautifulsoup4->bs4) (2.2.1)\n",
      "Requirement already satisfied: requests in c:\\users\\hp\\anaconda3\\lib\\site-packages (2.25.1)\n",
      "Requirement already satisfied: chardet<5,>=3.0.2 in c:\\users\\hp\\anaconda3\\lib\\site-packages (from requests) (4.0.0)\n",
      "Requirement already satisfied: idna<3,>=2.5 in c:\\users\\hp\\anaconda3\\lib\\site-packages (from requests) (2.10)\n",
      "Requirement already satisfied: urllib3<1.27,>=1.21.1 in c:\\users\\hp\\anaconda3\\lib\\site-packages (from requests) (1.26.4)\n",
      "Requirement already satisfied: certifi>=2017.4.17 in c:\\users\\hp\\anaconda3\\lib\\site-packages (from requests) (2020.12.5)\n"
     ]
    }
   ],
   "source": [
    "!pip install bs4\n",
    "!pip install requests"
   ]
  },
  {
   "cell_type": "code",
   "execution_count": 2,
   "id": "ebf3231a",
   "metadata": {},
   "outputs": [],
   "source": [
    "from bs4 import BeautifulSoup\n",
    "import pandas as pd\n",
    "import requests\n",
    "import numpy as np"
   ]
  },
  {
   "cell_type": "code",
   "execution_count": 3,
   "id": "98d3e7ba",
   "metadata": {},
   "outputs": [],
   "source": [
    "url='https://www.icc-cricket.com/rankings/mens/player-rankings/odi/bowling'\n",
    "page=requests.get(url).text"
   ]
  },
  {
   "cell_type": "code",
   "execution_count": 4,
   "id": "73a2180a",
   "metadata": {},
   "outputs": [],
   "source": [
    "soup=BeautifulSoup(page,'html.parser')"
   ]
  },
  {
   "cell_type": "code",
   "execution_count": 5,
   "id": "1072ea8e",
   "metadata": {},
   "outputs": [],
   "source": [
    "FirstPos=soup.find('span',class_='rankings-block__pos-number').text.split()\n",
    "FirstBowlName=soup.find('div',class_='rankings-block__banner--name-large').text\n",
    "timNam=soup.find('div',class_='rankings-block__banner--nationality').text.split()\n",
    "Rate=soup.find('div',class_='rankings-block__banner--rating').text"
   ]
  },
  {
   "cell_type": "code",
   "execution_count": 6,
   "id": "56b4921d",
   "metadata": {},
   "outputs": [],
   "source": [
    "TopBowler1_df=pd.DataFrame({'POSITION': FirstPos, 'BOWLER NAME': FirstBowlName, 'TEAM NAME': timNam,'RATING':Rate})"
   ]
  },
  {
   "cell_type": "code",
   "execution_count": 7,
   "id": "bd6bc985",
   "metadata": {},
   "outputs": [],
   "source": [
    "TOp_bowler=soup.findAll('tr',attrs={'class':'table-body'})"
   ]
  },
  {
   "cell_type": "code",
   "execution_count": 8,
   "id": "b869ce26",
   "metadata": {},
   "outputs": [],
   "source": [
    "position=[]\n",
    "Bowler=[]\n",
    "TeamName=[]\n",
    "Rating=[]\n",
    "\n",
    "for store in TOp_bowler:\n",
    "    bow=store.find('span',class_='rankings-table__pos-number').text.split()\n",
    "    position.append(bow)\n",
    "    \n",
    "    bowName= store.find('td',class_='table-body__cell rankings-table__name name').text.replace('[' , '').split()\n",
    "    Bowler.append(bowName)\n",
    "    \n",
    "    temName= store.find('span',class_='table-body__logo-text').text\n",
    "    TeamName.append(temName)\n",
    "    \n",
    "    rat=store.find('td',class_='table-body__cell rating').text\n",
    "    Rating.append(rat)\n",
    "      "
   ]
  },
  {
   "cell_type": "code",
   "execution_count": 9,
   "id": "14c7f141",
   "metadata": {},
   "outputs": [],
   "source": [
    "TopBowler_df = pd.DataFrame({'POSITION': position, 'BOWLER NAME': Bowler, 'TEAM NAME': TeamName,'RATING':Rating})"
   ]
  },
  {
   "cell_type": "code",
   "execution_count": 10,
   "id": "86d527c8",
   "metadata": {},
   "outputs": [],
   "source": [
    "frames = [TopBowler1_df, TopBowler_df]\n",
    "top_odi_bowler = pd.concat(frames)"
   ]
  },
  {
   "cell_type": "code",
   "execution_count": 11,
   "id": "84c39395",
   "metadata": {},
   "outputs": [
    {
     "data": {
      "text/html": [
       "<div>\n",
       "<style scoped>\n",
       "    .dataframe tbody tr th:only-of-type {\n",
       "        vertical-align: middle;\n",
       "    }\n",
       "\n",
       "    .dataframe tbody tr th {\n",
       "        vertical-align: top;\n",
       "    }\n",
       "\n",
       "    .dataframe thead th {\n",
       "        text-align: right;\n",
       "    }\n",
       "</style>\n",
       "<table border=\"1\" class=\"dataframe\">\n",
       "  <thead>\n",
       "    <tr style=\"text-align: right;\">\n",
       "      <th></th>\n",
       "      <th>POSITION</th>\n",
       "      <th>BOWLER NAME</th>\n",
       "      <th>TEAM NAME</th>\n",
       "      <th>RATING</th>\n",
       "    </tr>\n",
       "  </thead>\n",
       "  <tbody>\n",
       "    <tr>\n",
       "      <th>0</th>\n",
       "      <td>1</td>\n",
       "      <td>Trent Boult</td>\n",
       "      <td>NZ</td>\n",
       "      <td>726</td>\n",
       "    </tr>\n",
       "    <tr>\n",
       "      <th>0</th>\n",
       "      <td>[2]</td>\n",
       "      <td>[Chris, Woakes]</td>\n",
       "      <td>ENG</td>\n",
       "      <td>700</td>\n",
       "    </tr>\n",
       "    <tr>\n",
       "      <th>1</th>\n",
       "      <td>[3]</td>\n",
       "      <td>[Josh, Hazlewood]</td>\n",
       "      <td>AUS</td>\n",
       "      <td>698</td>\n",
       "    </tr>\n",
       "    <tr>\n",
       "      <th>2</th>\n",
       "      <td>[4]</td>\n",
       "      <td>[Matt, Henry]</td>\n",
       "      <td>NZ</td>\n",
       "      <td>683</td>\n",
       "    </tr>\n",
       "    <tr>\n",
       "      <th>3</th>\n",
       "      <td>[5]</td>\n",
       "      <td>[Mujeeb, Ur, Rahman]</td>\n",
       "      <td>AFG</td>\n",
       "      <td>681</td>\n",
       "    </tr>\n",
       "  </tbody>\n",
       "</table>\n",
       "</div>"
      ],
      "text/plain": [
       "  POSITION           BOWLER NAME TEAM NAME RATING\n",
       "0        1           Trent Boult        NZ    726\n",
       "0      [2]       [Chris, Woakes]       ENG    700\n",
       "1      [3]     [Josh, Hazlewood]       AUS    698\n",
       "2      [4]         [Matt, Henry]        NZ    683\n",
       "3      [5]  [Mujeeb, Ur, Rahman]       AFG    681"
      ]
     },
     "execution_count": 11,
     "metadata": {},
     "output_type": "execute_result"
    }
   ],
   "source": [
    "top_odi_bowler.head(5)"
   ]
  },
  {
   "cell_type": "code",
   "execution_count": null,
   "id": "9cb634b3",
   "metadata": {},
   "outputs": [],
   "source": []
  }
 ],
 "metadata": {
  "kernelspec": {
   "display_name": "Python 3",
   "language": "python",
   "name": "python3"
  },
  "language_info": {
   "codemirror_mode": {
    "name": "ipython",
    "version": 3
   },
   "file_extension": ".py",
   "mimetype": "text/x-python",
   "name": "python",
   "nbconvert_exporter": "python",
   "pygments_lexer": "ipython3",
   "version": "3.8.8"
  }
 },
 "nbformat": 4,
 "nbformat_minor": 5
}
