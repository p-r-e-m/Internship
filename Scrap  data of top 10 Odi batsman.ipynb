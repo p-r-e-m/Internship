{
 "cells": [
  {
   "cell_type": "code",
   "execution_count": 1,
   "id": "fccbf27a",
   "metadata": {
    "scrolled": true
   },
   "outputs": [
    {
     "name": "stdout",
     "output_type": "stream",
     "text": [
      "Requirement already satisfied: bs4 in c:\\users\\hp\\anaconda3\\lib\\site-packages (0.0.1)\n",
      "Requirement already satisfied: beautifulsoup4 in c:\\users\\hp\\anaconda3\\lib\\site-packages (from bs4) (4.9.3)\n",
      "Requirement already satisfied: soupsieve>1.2 in c:\\users\\hp\\anaconda3\\lib\\site-packages (from beautifulsoup4->bs4) (2.2.1)\n",
      "Requirement already satisfied: requests in c:\\users\\hp\\anaconda3\\lib\\site-packages (2.25.1)\n",
      "Requirement already satisfied: chardet<5,>=3.0.2 in c:\\users\\hp\\anaconda3\\lib\\site-packages (from requests) (4.0.0)\n",
      "Requirement already satisfied: idna<3,>=2.5 in c:\\users\\hp\\anaconda3\\lib\\site-packages (from requests) (2.10)\n",
      "Requirement already satisfied: urllib3<1.27,>=1.21.1 in c:\\users\\hp\\anaconda3\\lib\\site-packages (from requests) (1.26.4)\n",
      "Requirement already satisfied: certifi>=2017.4.17 in c:\\users\\hp\\anaconda3\\lib\\site-packages (from requests) (2020.12.5)\n"
     ]
    }
   ],
   "source": [
    "!pip install bs4\n",
    "!pip install requests"
   ]
  },
  {
   "cell_type": "code",
   "execution_count": 2,
   "id": "0b05cbdd",
   "metadata": {},
   "outputs": [],
   "source": [
    "from bs4 import BeautifulSoup\n",
    "import pandas as pd \n",
    "import requests\n",
    "import numpy as np"
   ]
  },
  {
   "cell_type": "code",
   "execution_count": 3,
   "id": "4ade23aa",
   "metadata": {},
   "outputs": [],
   "source": [
    "link='https://www.icc-cricket.com/rankings/mens/player-rankings/odi/batting'\n",
    "page = requests.get(link).text"
   ]
  },
  {
   "cell_type": "code",
   "execution_count": 4,
   "id": "da64d0c0",
   "metadata": {},
   "outputs": [],
   "source": [
    "soup=BeautifulSoup(page,'html.parser')"
   ]
  },
  {
   "cell_type": "code",
   "execution_count": 5,
   "id": "ed00dd9c",
   "metadata": {},
   "outputs": [],
   "source": [
    "FirstPos=soup.find('span',class_='rankings-block__pos-number').text.split()\n",
    "FirstBatlName=soup.find('div',class_='rankings-block__banner--name-large').text\n",
    "timNam=soup.find('div',class_='rankings-block__banner--nationality').text.split()\n",
    "Rate=soup.find('div',class_='rankings-block__banner--rating').text"
   ]
  },
  {
   "cell_type": "code",
   "execution_count": 6,
   "id": "12852194",
   "metadata": {},
   "outputs": [],
   "source": [
    "TopBat_df=pd.DataFrame({'POSITION': FirstPos, 'BATSMAN NAME': FirstBatlName, 'TEAM NAME': timNam,'RATING':Rate})"
   ]
  },
  {
   "cell_type": "code",
   "execution_count": 7,
   "id": "6ce56725",
   "metadata": {},
   "outputs": [],
   "source": [
    "batsman_data=soup.findAll('tr',class_='table-body')"
   ]
  },
  {
   "cell_type": "code",
   "execution_count": 8,
   "id": "59cc626a",
   "metadata": {},
   "outputs": [],
   "source": [
    "position=[]\n",
    "Batsman=[]\n",
    "TeamName=[]\n",
    "Rating=[]\n",
    "\n",
    "for store in batsman_data:\n",
    "    bat=store.find('span',class_='rankings-table__pos-number').text.split()\n",
    "    position.append(bat)\n",
    "    \n",
    "    BatName= store.find('td',class_='table-body__cell rankings-table__name name').text.replace('[' , '').split()\n",
    "    Batsman.append(BatName)\n",
    "    \n",
    "    temName= store.find('span',class_='table-body__logo-text').text\n",
    "    TeamName.append(temName)\n",
    "    \n",
    "    rat=store.find('td',class_='table-body__cell rating').text\n",
    "    Rating.append(rat)\n",
    "    "
   ]
  },
  {
   "cell_type": "code",
   "execution_count": 9,
   "id": "f3e9149a",
   "metadata": {},
   "outputs": [],
   "source": [
    "TopBat_df2=pd.DataFrame({'POSITION': position, 'BATSMAN NAME': Batsman, 'TEAM NAME': TeamName,'RATING':Rating})"
   ]
  },
  {
   "cell_type": "code",
   "execution_count": 10,
   "id": "f8c8f529",
   "metadata": {},
   "outputs": [],
   "source": [
    "topers=[TopBat_df,TopBat_df2]\n",
    "TOP_BATSMAN=pd.concat(topers)"
   ]
  },
  {
   "cell_type": "code",
   "execution_count": 12,
   "id": "a0de1dd3",
   "metadata": {},
   "outputs": [
    {
     "data": {
      "text/html": [
       "<div>\n",
       "<style scoped>\n",
       "    .dataframe tbody tr th:only-of-type {\n",
       "        vertical-align: middle;\n",
       "    }\n",
       "\n",
       "    .dataframe tbody tr th {\n",
       "        vertical-align: top;\n",
       "    }\n",
       "\n",
       "    .dataframe thead th {\n",
       "        text-align: right;\n",
       "    }\n",
       "</style>\n",
       "<table border=\"1\" class=\"dataframe\">\n",
       "  <thead>\n",
       "    <tr style=\"text-align: right;\">\n",
       "      <th></th>\n",
       "      <th>POSITION</th>\n",
       "      <th>BATSMAN NAME</th>\n",
       "      <th>TEAM NAME</th>\n",
       "      <th>RATING</th>\n",
       "    </tr>\n",
       "  </thead>\n",
       "  <tbody>\n",
       "    <tr>\n",
       "      <th>0</th>\n",
       "      <td>1</td>\n",
       "      <td>Babar Azam</td>\n",
       "      <td>PAK</td>\n",
       "      <td>891</td>\n",
       "    </tr>\n",
       "    <tr>\n",
       "      <th>0</th>\n",
       "      <td>[2]</td>\n",
       "      <td>[Virat, Kohli]</td>\n",
       "      <td>IND</td>\n",
       "      <td>811</td>\n",
       "    </tr>\n",
       "    <tr>\n",
       "      <th>1</th>\n",
       "      <td>[3]</td>\n",
       "      <td>[Imam-ul-Haq]</td>\n",
       "      <td>PAK</td>\n",
       "      <td>795</td>\n",
       "    </tr>\n",
       "    <tr>\n",
       "      <th>2</th>\n",
       "      <td>[4]</td>\n",
       "      <td>[Rohit, Sharma]</td>\n",
       "      <td>IND</td>\n",
       "      <td>791</td>\n",
       "    </tr>\n",
       "    <tr>\n",
       "      <th>3</th>\n",
       "      <td>[5]</td>\n",
       "      <td>[Quinton, de, Kock]</td>\n",
       "      <td>SA</td>\n",
       "      <td>789</td>\n",
       "    </tr>\n",
       "  </tbody>\n",
       "</table>\n",
       "</div>"
      ],
      "text/plain": [
       "  POSITION         BATSMAN NAME TEAM NAME RATING\n",
       "0        1           Babar Azam       PAK    891\n",
       "0      [2]       [Virat, Kohli]       IND    811\n",
       "1      [3]        [Imam-ul-Haq]       PAK    795\n",
       "2      [4]      [Rohit, Sharma]       IND    791\n",
       "3      [5]  [Quinton, de, Kock]        SA    789"
      ]
     },
     "execution_count": 12,
     "metadata": {},
     "output_type": "execute_result"
    }
   ],
   "source": [
    "TOP_BATSMAN.head(5)"
   ]
  },
  {
   "cell_type": "code",
   "execution_count": null,
   "id": "9cf97857",
   "metadata": {},
   "outputs": [],
   "source": []
  }
 ],
 "metadata": {
  "kernelspec": {
   "display_name": "Python 3",
   "language": "python",
   "name": "python3"
  },
  "language_info": {
   "codemirror_mode": {
    "name": "ipython",
    "version": 3
   },
   "file_extension": ".py",
   "mimetype": "text/x-python",
   "name": "python",
   "nbconvert_exporter": "python",
   "pygments_lexer": "ipython3",
   "version": "3.8.8"
  }
 },
 "nbformat": 4,
 "nbformat_minor": 5
}
