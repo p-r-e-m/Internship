{
 "cells": [
  {
   "cell_type": "code",
   "execution_count": 1,
   "id": "2a54c68f",
   "metadata": {},
   "outputs": [
    {
     "name": "stdout",
     "output_type": "stream",
     "text": [
      "Requirement already satisfied: bs4 in c:\\users\\hp\\anaconda3\\lib\\site-packages (0.0.1)\n",
      "Requirement already satisfied: beautifulsoup4 in c:\\users\\hp\\anaconda3\\lib\\site-packages (from bs4) (4.9.3)\n",
      "Requirement already satisfied: soupsieve>1.2 in c:\\users\\hp\\anaconda3\\lib\\site-packages (from beautifulsoup4->bs4) (2.2.1)\n",
      "Requirement already satisfied: requests in c:\\users\\hp\\anaconda3\\lib\\site-packages (2.25.1)\n",
      "Requirement already satisfied: chardet<5,>=3.0.2 in c:\\users\\hp\\anaconda3\\lib\\site-packages (from requests) (4.0.0)\n",
      "Requirement already satisfied: certifi>=2017.4.17 in c:\\users\\hp\\anaconda3\\lib\\site-packages (from requests) (2020.12.5)\n",
      "Requirement already satisfied: idna<3,>=2.5 in c:\\users\\hp\\anaconda3\\lib\\site-packages (from requests) (2.10)\n",
      "Requirement already satisfied: urllib3<1.27,>=1.21.1 in c:\\users\\hp\\anaconda3\\lib\\site-packages (from requests) (1.26.4)\n"
     ]
    }
   ],
   "source": [
    "!pip install bs4\n",
    "!pip install requests"
   ]
  },
  {
   "cell_type": "code",
   "execution_count": 3,
   "id": "da6a02b1",
   "metadata": {},
   "outputs": [],
   "source": [
    "from bs4 import BeautifulSoup\n",
    "import pandas as pd\n",
    "import requests"
   ]
  },
  {
   "cell_type": "code",
   "execution_count": 4,
   "id": "af84dd70",
   "metadata": {},
   "outputs": [],
   "source": [
    "link='https://www.icc-cricket.com/rankings/womens/team-rankings/odi'\n",
    "page=requests.get(link).text"
   ]
  },
  {
   "cell_type": "code",
   "execution_count": 7,
   "id": "a7d3f131",
   "metadata": {},
   "outputs": [],
   "source": [
    "soup=BeautifulSoup(page,'html.parser')"
   ]
  },
  {
   "cell_type": "code",
   "execution_count": 8,
   "id": "98674331",
   "metadata": {},
   "outputs": [],
   "source": [
    "FirstPos=soup.find('td',class_='rankings-block__banner--pos').text.split()\n",
    "FirstTeamName=soup.find('span',class_='u-show-phablet').text\n",
    "matc=soup.find('td',class_='rankings-block__banner--matches').text\n",
    "point=soup.find('td',class_='rankings-block__banner--points').text\n",
    "Rate=soup.find('td',class_='rankings-block__banner--rating u-text-right').text.split()"
   ]
  },
  {
   "cell_type": "code",
   "execution_count": 9,
   "id": "22177a39",
   "metadata": {},
   "outputs": [],
   "source": [
    "TopTeam1=pd.DataFrame({'POSITION': FirstPos, 'TEAM NAME': FirstTeamName, 'MATCH': matc,'POINT': point,'RATING':Rate})"
   ]
  },
  {
   "cell_type": "code",
   "execution_count": 11,
   "id": "578738aa",
   "metadata": {},
   "outputs": [],
   "source": [
    "Odi_data=soup.findAll('tr',attrs={'class':'table-body'})"
   ]
  },
  {
   "cell_type": "code",
   "execution_count": 12,
   "id": "f2b3e152",
   "metadata": {},
   "outputs": [],
   "source": [
    "Pos=[]\n",
    "TeamName=[]\n",
    "Matches=[]\n",
    "Point=[]\n",
    "Rating=[]"
   ]
  },
  {
   "cell_type": "code",
   "execution_count": 13,
   "id": "48879030",
   "metadata": {},
   "outputs": [],
   "source": [
    "for store in Odi_data:\n",
    "    pos = store.find('td',class_='table-body__cell table-body__cell--position u-text-right').text\n",
    "    Pos.append(pos)\n",
    "    \n",
    "    team=store.find('span',class_='u-show-phablet').text\n",
    "    TeamName.append(team)\n",
    "    \n",
    "    matches=store.find('td',class_='table-body__cell u-center-text').text\n",
    "    Matches.append(matches)\n",
    "    \n",
    "    point= store.find('td',class_='table-body__cell u-center-text').text\n",
    "    Point.append(point)\n",
    "    \n",
    "    rating=store.find('td',class_='table-body__cell u-text-right rating').text.strip()\n",
    "    Rating.append(rating)"
   ]
  },
  {
   "cell_type": "code",
   "execution_count": 14,
   "id": "de013467",
   "metadata": {},
   "outputs": [],
   "source": [
    "TopTeam= pd.DataFrame({'POSITION': Pos, 'TEAM NAME': TeamName, 'MATCH': Matches,'POINT': Point,'RATING':Rating})"
   ]
  },
  {
   "cell_type": "code",
   "execution_count": 15,
   "id": "e034ff0e",
   "metadata": {},
   "outputs": [],
   "source": [
    "TopOdiTeam = [TopTeam1, TopTeam]\n",
    "TopOdiTeamList = pd.concat(TopOdiTeam)"
   ]
  },
  {
   "cell_type": "code",
   "execution_count": 16,
   "id": "0644e790",
   "metadata": {},
   "outputs": [
    {
     "data": {
      "text/html": [
       "<div>\n",
       "<style scoped>\n",
       "    .dataframe tbody tr th:only-of-type {\n",
       "        vertical-align: middle;\n",
       "    }\n",
       "\n",
       "    .dataframe tbody tr th {\n",
       "        vertical-align: top;\n",
       "    }\n",
       "\n",
       "    .dataframe thead th {\n",
       "        text-align: right;\n",
       "    }\n",
       "</style>\n",
       "<table border=\"1\" class=\"dataframe\">\n",
       "  <thead>\n",
       "    <tr style=\"text-align: right;\">\n",
       "      <th></th>\n",
       "      <th>POSITION</th>\n",
       "      <th>TEAM NAME</th>\n",
       "      <th>MATCH</th>\n",
       "      <th>POINT</th>\n",
       "      <th>RATING</th>\n",
       "    </tr>\n",
       "  </thead>\n",
       "  <tbody>\n",
       "    <tr>\n",
       "      <th>0</th>\n",
       "      <td>1</td>\n",
       "      <td>AUS</td>\n",
       "      <td>29</td>\n",
       "      <td>4,840</td>\n",
       "      <td>167</td>\n",
       "    </tr>\n",
       "    <tr>\n",
       "      <th>0</th>\n",
       "      <td>2</td>\n",
       "      <td>SA</td>\n",
       "      <td>28</td>\n",
       "      <td>28</td>\n",
       "      <td>125</td>\n",
       "    </tr>\n",
       "    <tr>\n",
       "      <th>1</th>\n",
       "      <td>3</td>\n",
       "      <td>ENG</td>\n",
       "      <td>30</td>\n",
       "      <td>30</td>\n",
       "      <td>118</td>\n",
       "    </tr>\n",
       "    <tr>\n",
       "      <th>2</th>\n",
       "      <td>4</td>\n",
       "      <td>IND</td>\n",
       "      <td>29</td>\n",
       "      <td>29</td>\n",
       "      <td>99</td>\n",
       "    </tr>\n",
       "    <tr>\n",
       "      <th>3</th>\n",
       "      <td>5</td>\n",
       "      <td>NZ</td>\n",
       "      <td>31</td>\n",
       "      <td>31</td>\n",
       "      <td>98</td>\n",
       "    </tr>\n",
       "    <tr>\n",
       "      <th>4</th>\n",
       "      <td>6</td>\n",
       "      <td>WI</td>\n",
       "      <td>28</td>\n",
       "      <td>28</td>\n",
       "      <td>89</td>\n",
       "    </tr>\n",
       "    <tr>\n",
       "      <th>5</th>\n",
       "      <td>7</td>\n",
       "      <td>BAN</td>\n",
       "      <td>12</td>\n",
       "      <td>12</td>\n",
       "      <td>78</td>\n",
       "    </tr>\n",
       "    <tr>\n",
       "      <th>6</th>\n",
       "      <td>8</td>\n",
       "      <td>PAK</td>\n",
       "      <td>26</td>\n",
       "      <td>26</td>\n",
       "      <td>67</td>\n",
       "    </tr>\n",
       "    <tr>\n",
       "      <th>7</th>\n",
       "      <td>9</td>\n",
       "      <td>IRE</td>\n",
       "      <td>5</td>\n",
       "      <td>5</td>\n",
       "      <td>48</td>\n",
       "    </tr>\n",
       "    <tr>\n",
       "      <th>8</th>\n",
       "      <td>10</td>\n",
       "      <td>SL</td>\n",
       "      <td>5</td>\n",
       "      <td>5</td>\n",
       "      <td>47</td>\n",
       "    </tr>\n",
       "    <tr>\n",
       "      <th>9</th>\n",
       "      <td>11</td>\n",
       "      <td>ZIM</td>\n",
       "      <td>8</td>\n",
       "      <td>8</td>\n",
       "      <td>0</td>\n",
       "    </tr>\n",
       "  </tbody>\n",
       "</table>\n",
       "</div>"
      ],
      "text/plain": [
       "  POSITION TEAM NAME MATCH  POINT RATING\n",
       "0        1       AUS    29  4,840    167\n",
       "0        2        SA    28     28    125\n",
       "1        3       ENG    30     30    118\n",
       "2        4       IND    29     29     99\n",
       "3        5        NZ    31     31     98\n",
       "4        6        WI    28     28     89\n",
       "5        7       BAN    12     12     78\n",
       "6        8       PAK    26     26     67\n",
       "7        9       IRE     5      5     48\n",
       "8       10        SL     5      5     47\n",
       "9       11       ZIM     8      8      0"
      ]
     },
     "execution_count": 16,
     "metadata": {},
     "output_type": "execute_result"
    }
   ],
   "source": [
    "TopOdiTeamList"
   ]
  },
  {
   "cell_type": "code",
   "execution_count": null,
   "id": "90c55a08",
   "metadata": {},
   "outputs": [],
   "source": []
  }
 ],
 "metadata": {
  "kernelspec": {
   "display_name": "Python 3",
   "language": "python",
   "name": "python3"
  },
  "language_info": {
   "codemirror_mode": {
    "name": "ipython",
    "version": 3
   },
   "file_extension": ".py",
   "mimetype": "text/x-python",
   "name": "python",
   "nbconvert_exporter": "python",
   "pygments_lexer": "ipython3",
   "version": "3.8.8"
  }
 },
 "nbformat": 4,
 "nbformat_minor": 5
}
