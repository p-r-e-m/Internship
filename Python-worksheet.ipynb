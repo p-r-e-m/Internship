{
 "cells": [
  {
   "cell_type": "raw",
   "id": "ab30b0b5",
   "metadata": {},
   "source": [
    "1. Which of the following operators is used to calculate remainder in a division?\n",
    "A) #                                         B) &\n",
    "C) %                                         D) $\n",
    "Ans.  %"
   ]
  },
  {
   "cell_type": "raw",
   "id": "8b6c3eee",
   "metadata": {},
   "source": [
    "2. In python 2//3 is equal to?\n",
    "A) 0.666                                     B) 0\n",
    "C) 1                                         D) 0.67\n",
    "Ans. B) 0"
   ]
  },
  {
   "cell_type": "raw",
   "id": "3c198a8c",
   "metadata": {},
   "source": [
    "3. In python, 6<<2 is equal to?\n",
    "A) 36                                        B) 10\n",
    "C) 24                                        D) 45\n",
    "Ans. C) 24"
   ]
  },
  {
   "cell_type": "raw",
   "id": "40b6e3cc",
   "metadata": {},
   "source": [
    "4. In python, 6&2 will give which of the following as output?\n",
    "A) 2                                         B) True\n",
    "C) False                                     D) 0\n",
    "Ans. A) 2"
   ]
  },
  {
   "cell_type": "raw",
   "id": "195cc944",
   "metadata": {},
   "source": [
    "5. In python, 6|2 will give which of the following as output?\n",
    "A) 2                                         B) 4\n",
    "C) 0                                         D) 6\n",
    "Ans. D) 6"
   ]
  },
  {
   "cell_type": "raw",
   "id": "c5d62028",
   "metadata": {},
   "source": [
    "6. If output involves label then that model is called as: \n",
    "A) Descriptive model                         B) Predictive modal \n",
    "C) Reinforcement learning                    D) All of the above\n",
    "Ans.  B) Predictive modal "
   ]
  },
  {
   "cell_type": "raw",
   "id": "ad467d1d",
   "metadata": {},
   "source": [
    "6. What does the finally keyword denotes in python?\n",
    "A) It is used to mark the end of the code\n",
    "B) It encloses the lines of code which will be executed if any error occurs while executing the lines of code in \n",
    "the try block.\n",
    "C) the finally block will be executed no matter if the try block raises an error or not.\n",
    "D) None of the above\n",
    "Ans. C) the finally block will be executed no matter if the try block raises an error or not."
   ]
  },
  {
   "cell_type": "raw",
   "id": "498e0365",
   "metadata": {},
   "source": [
    "7. What does raise keyword is used for in python?\n",
    "A) It is used to raise an exception.         B) It is used to define lambda function\n",
    "C) it's not a keyword in python.             D) None of the above\n",
    "Ans. A) It is used to raise an exception.  "
   ]
  },
  {
   "cell_type": "raw",
   "id": "13d5596e",
   "metadata": {},
   "source": [
    "8. Which of the following is a common use case of yield keyword in python?\n",
    "A) in defining an iterator                   B) while defining a lambda function\n",
    "C) in defining a generator                   D) in for loop\n",
    "Ans. "
   ]
  },
  {
   "cell_type": "raw",
   "id": "52743572",
   "metadata": {},
   "source": [
    "9. Which of the following are the valid variable names?\n",
    "A) _abc                                      B) 1abc\n",
    "C) abc2                                      D) None of the above\n",
    "Ans. C) abc2  "
   ]
  },
  {
   "cell_type": "raw",
   "id": "6961d6c3",
   "metadata": {},
   "source": [
    "10. Which of the following are the keywords in python?\n",
    "A) yield                                     B) raise\n",
    "C) look-in                                   D) all of the above\n",
    "Ans. A) yield and  B) raise"
   ]
  },
  {
   "cell_type": "markdown",
   "id": "ce93345f",
   "metadata": {},
   "source": [
    "11. Write a python program to find the factorial of a number."
   ]
  },
  {
   "cell_type": "code",
   "execution_count": 1,
   "id": "32b42ce4",
   "metadata": {},
   "outputs": [],
   "source": [
    "def factorial(n):\n",
    "    return 1 if (n==1 or n==0) else n * factorial(n - 1)"
   ]
  },
  {
   "cell_type": "markdown",
   "id": "794142e3",
   "metadata": {},
   "source": [
    "12. Write a python program to find whether a number is prime or composite"
   ]
  },
  {
   "cell_type": "code",
   "execution_count": 2,
   "id": "ac35b502",
   "metadata": {},
   "outputs": [],
   "source": [
    "def PrimeOrComposite(num):\n",
    "    if num > 1:\n",
    "        for i in range(2, int(num/2)+1):\n",
    "            if (num % i) == 0:\n",
    "                print(num, \"is composite number\")\n",
    "                break\n",
    "        else:\n",
    "            print(num, \"is a prime number\")              "
   ]
  },
  {
   "cell_type": "markdown",
   "id": "0b42650a",
   "metadata": {},
   "source": [
    "13. Write a python program to check whether a given string is palindrome or not"
   ]
  },
  {
   "cell_type": "code",
   "execution_count": 3,
   "id": "4a47ef64",
   "metadata": {},
   "outputs": [],
   "source": [
    "def is_palindrom(input):\n",
    "    left=0\n",
    "    right=len(input)-1\n",
    "    while left<right:\n",
    "        if input[left]!=input[right]:\n",
    "            return False\n",
    "        else:\n",
    "            left+=1\n",
    "            right-=1\n",
    "    return True"
   ]
  },
  {
   "cell_type": "raw",
   "id": "540be539",
   "metadata": {},
   "source": [
    " 14. Write a Python program to get the third side of right-angled triangle from two given sides."
   ]
  },
  {
   "cell_type": "code",
   "execution_count": 4,
   "id": "b9f15045",
   "metadata": {},
   "outputs": [],
   "source": [
    "import math \n",
    "def FindThirdSide(length_1st,length_2nd):\n",
    "    length_3rd= math.sqrt(length_1st**2 +length_2nd**2)\n",
    "    print(length_3rd)    "
   ]
  },
  {
   "cell_type": "raw",
   "id": "3915f1a3",
   "metadata": {},
   "source": [
    "15. Write a python program to print the frequency of each of the characters present in a given string"
   ]
  },
  {
   "cell_type": "code",
   "execution_count": 5,
   "id": "d17a9255",
   "metadata": {},
   "outputs": [],
   "source": [
    "def FreqOfCharecter(string):\n",
    "    str1=list(string)\n",
    "    strlist=[]\n",
    "    for j in str1:\n",
    "        if j not in strlist:\n",
    "            strlist.append(j)\n",
    "            count=0\n",
    "            for i in range(len(str1)):\n",
    "                 if j==str1[i]:\n",
    "                       count+=1\n",
    "            print(\"{},{}\".format(j,count))"
   ]
  },
  {
   "cell_type": "code",
   "execution_count": null,
   "id": "8d189a70",
   "metadata": {},
   "outputs": [],
   "source": []
  }
 ],
 "metadata": {
  "kernelspec": {
   "display_name": "Python 3",
   "language": "python",
   "name": "python3"
  },
  "language_info": {
   "codemirror_mode": {
    "name": "ipython",
    "version": 3
   },
   "file_extension": ".py",
   "mimetype": "text/x-python",
   "name": "python",
   "nbconvert_exporter": "python",
   "pygments_lexer": "ipython3",
   "version": "3.8.8"
  }
 },
 "nbformat": 4,
 "nbformat_minor": 5
}
